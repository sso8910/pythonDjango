{
 "cells": [
  {
   "cell_type": "code",
   "execution_count": 1,
   "metadata": {},
   "outputs": [
    {
     "data": {
      "text/plain": [
       "['False',\n",
       " 'None',\n",
       " 'True',\n",
       " '__peg_parser__',\n",
       " 'and',\n",
       " 'as',\n",
       " 'assert',\n",
       " 'async',\n",
       " 'await',\n",
       " 'break',\n",
       " 'class',\n",
       " 'continue',\n",
       " 'def',\n",
       " 'del',\n",
       " 'elif',\n",
       " 'else',\n",
       " 'except',\n",
       " 'finally',\n",
       " 'for',\n",
       " 'from',\n",
       " 'global',\n",
       " 'if',\n",
       " 'import',\n",
       " 'in',\n",
       " 'is',\n",
       " 'lambda',\n",
       " 'nonlocal',\n",
       " 'not',\n",
       " 'or',\n",
       " 'pass',\n",
       " 'raise',\n",
       " 'return',\n",
       " 'try',\n",
       " 'while',\n",
       " 'with',\n",
       " 'yield']"
      ]
     },
     "execution_count": 1,
     "metadata": {},
     "output_type": "execute_result"
    }
   ],
   "source": [
    "import keyword\n",
    "keyword.kwlist"
   ]
  },
  {
   "cell_type": "code",
   "execution_count": 2,
   "metadata": {},
   "outputs": [
    {
     "name": "stdout",
     "output_type": "stream",
     "text": [
      "20\n",
      "3.14\n"
     ]
    }
   ],
   "source": [
    "number1=20\n",
    "pi=3.14\n",
    "print(number1)\n",
    "print(pi)"
   ]
  },
  {
   "attachments": {},
   "cell_type": "markdown",
   "metadata": {},
   "source": [
    "#### 키워드는 변수명으로 사용 불가 \n",
    "-'False', 'None', 'True', 'and', 'as', 'assert', 'async', 'await', 'break', 'class', 'continue', 'def', 'del','elif', 'else', 'except', 'finally', 'for', 'from', 'global', 'if', 'import', 'yield','in', 'is', 'lambda', 'nonlocal', 'not', 'or', 'pass', 'raise', 'return', 'try', 'while', 'with'\n",
    "#### 여러라인 주석처리하고 싶으면 \"\"\" 사용"
   ]
  },
  {
   "cell_type": "code",
   "execution_count": 3,
   "metadata": {},
   "outputs": [
    {
     "name": "stdout",
     "output_type": "stream",
     "text": [
      "1 2 3 4 5 6 7 8 9 10 "
     ]
    }
   ],
   "source": [
    "for i in range(1,11):\n",
    "    print(i,end=' ') #출력시 줄바꿈하지 않고 한 줄에 출력하려면 end=' ' 입력해서 한 칸 공백주면 된다"
   ]
  },
  {
   "cell_type": "code",
   "execution_count": 4,
   "metadata": {},
   "outputs": [],
   "source": [
    "list1=[10,20,30,40,50]\n",
    "list2=['a','b','c']"
   ]
  },
  {
   "cell_type": "code",
   "execution_count": 5,
   "metadata": {},
   "outputs": [],
   "source": [
    "fields=['subject','content']\n",
    "lis3=[10,'a','abc',[10,20,30,40,50],['a','b','c']]"
   ]
  },
  {
   "cell_type": "code",
   "execution_count": 7,
   "metadata": {},
   "outputs": [
    {
     "name": "stdout",
     "output_type": "stream",
     "text": [
      "[5, 20, 30, 40, 50]\n"
     ]
    }
   ],
   "source": [
    "list1[0]=5\n",
    "print(list1) #List 안의 속성값 변경 가능"
   ]
  },
  {
   "cell_type": "code",
   "execution_count": 8,
   "metadata": {},
   "outputs": [],
   "source": [
    "def myfunc():\n",
    "    print('리스트 자료구조 실습 예제')"
   ]
  },
  {
   "cell_type": "code",
   "execution_count": 9,
   "metadata": {},
   "outputs": [],
   "source": [
    "list4=[10,20,myfunc]"
   ]
  },
  {
   "cell_type": "code",
   "execution_count": 10,
   "metadata": {},
   "outputs": [
    {
     "name": "stdout",
     "output_type": "stream",
     "text": [
      "리스트 자료구조 실습 예제\n"
     ]
    }
   ],
   "source": [
    "list4[2]() #list4[2]는 myfunc()=> 즉 myfunc()함수 호출을 의미한다."
   ]
  },
  {
   "cell_type": "code",
   "execution_count": 11,
   "metadata": {},
   "outputs": [],
   "source": [
    "list5 = [(2021, 200000000000), (2022,300000000000)] #리스트 안에 튜플 자료도 가능"
   ]
  },
  {
   "cell_type": "code",
   "execution_count": 18,
   "metadata": {},
   "outputs": [],
   "source": [
    "#튜플 자료구조 실습->tuple ()\n",
    "tuple1=(10,20,30,40,50)\n",
    "tuple2=('a','b','c')\n",
    "tuple3=(10,'a','abc',[10,20,30,40,50],['a','b','c'])"
   ]
  },
  {
   "cell_type": "code",
   "execution_count": 19,
   "metadata": {},
   "outputs": [
    {
     "ename": "TypeError",
     "evalue": "'tuple' object does not support item assignment",
     "output_type": "error",
     "traceback": [
      "\u001b[1;31m---------------------------------------------------------------------------\u001b[0m",
      "\u001b[1;31mTypeError\u001b[0m                                 Traceback (most recent call last)",
      "\u001b[1;32mc:\\Users\\user\\Desktop\\python_study\\0102.ipynb Cell 13\u001b[0m in \u001b[0;36m<cell line: 1>\u001b[1;34m()\u001b[0m\n\u001b[1;32m----> <a href='vscode-notebook-cell:/c%3A/Users/user/Desktop/python_study/0102.ipynb#X20sZmlsZQ%3D%3D?line=0'>1</a>\u001b[0m tuple1[\u001b[39m0\u001b[39m]\u001b[39m=\u001b[39m\u001b[39m5\u001b[39m\n",
      "\u001b[1;31mTypeError\u001b[0m: 'tuple' object does not support item assignment"
     ]
    }
   ],
   "source": [
    "tuple1[0]=5 #튜플은 속성값 변경불가"
   ]
  },
  {
   "cell_type": "code",
   "execution_count": 20,
   "metadata": {},
   "outputs": [
    {
     "name": "stdout",
     "output_type": "stream",
     "text": [
      "(10, 20, 30, 40, 50)\n"
     ]
    }
   ],
   "source": [
    "print(tuple1)"
   ]
  },
  {
   "cell_type": "code",
   "execution_count": 21,
   "metadata": {},
   "outputs": [],
   "source": [
    "def myfunc():\n",
    "    print('리스트 자료구조 실습예제')"
   ]
  },
  {
   "cell_type": "code",
   "execution_count": 22,
   "metadata": {},
   "outputs": [
    {
     "name": "stdout",
     "output_type": "stream",
     "text": [
      "리스트 자료구조 실습예제\n"
     ]
    }
   ],
   "source": [
    "tuple4=(10,20,myfunc)\n",
    "tuple4[2]()"
   ]
  },
  {
   "cell_type": "code",
   "execution_count": 23,
   "metadata": {},
   "outputs": [
    {
     "name": "stdout",
     "output_type": "stream",
     "text": [
      "제목\n",
      "내용\n"
     ]
    }
   ],
   "source": [
    "#사전(dictionary)자료 구조 실습\n",
    "dict1={'subject':'제목','content':'내용'} #{키:값}\n",
    "print(dict1['subject'])\n",
    "print(dict1['content'])"
   ]
  },
  {
   "cell_type": "code",
   "execution_count": 24,
   "metadata": {},
   "outputs": [],
   "source": [
    "dict2={'a':10,'b':20,'c':30}"
   ]
  },
  {
   "cell_type": "code",
   "execution_count": 25,
   "metadata": {},
   "outputs": [],
   "source": [
    "dict2['a']=40"
   ]
  },
  {
   "cell_type": "code",
   "execution_count": 26,
   "metadata": {},
   "outputs": [
    {
     "data": {
      "text/plain": [
       "{'a': 40, 'b': 20, 'c': 30}"
      ]
     },
     "execution_count": 26,
     "metadata": {},
     "output_type": "execute_result"
    }
   ],
   "source": [
    "dict2 #딕셔너리 키값의 속성값 변경가능"
   ]
  },
  {
   "cell_type": "code",
   "execution_count": null,
   "metadata": {},
   "outputs": [],
   "source": [
    "#장고에서 질문/답변 게시판 구현 시, list , dictionary 활용하기\n",
    "class QuestionForm(forms.ModelForm):\n",
    "    class Meta:\n",
    "        model = Question\n",
    "        fields = ['subject':'content']\n",
    "        widgets={'subject':forms.TextInput(attrs={'class':'form-control'}),\n",
    "                 'content':forms.Textarea(attrs={'class':'form-control','rows':10})}"
   ]
  },
  {
   "cell_type": "code",
   "execution_count": 27,
   "metadata": {},
   "outputs": [
    {
     "name": "stdout",
     "output_type": "stream",
     "text": [
      "30\n"
     ]
    }
   ],
   "source": [
    "#함수 구현하고 함수 호출하는 방법\n",
    "def add_number(n1,n2):\n",
    "    result = n1+n2\n",
    "    return result\n",
    "\n",
    "def add_txt(txt1,txt2):\n",
    "    print(txt1+txt2)\n",
    "    \n",
    "answer = add_number(10,20)\n",
    "print(answer)"
   ]
  },
  {
   "cell_type": "code",
   "execution_count": 33,
   "metadata": {},
   "outputs": [
    {
     "name": "stdout",
     "output_type": "stream",
     "text": [
      "인공지능-머신러닝,딥러닝\n",
      "None\n"
     ]
    }
   ],
   "source": [
    "def add_txt(txt1,txt2):\n",
    "    print(txt1+txt2)\n",
    "    \n",
    "text1='인공지능-'\n",
    "text2='머신러닝,딥러닝'\n",
    "answer=add_txt(text1,text2)\n",
    "\n",
    "print(answer)"
   ]
  },
  {
   "cell_type": "markdown",
   "metadata": {},
   "source": [
    "연습문제 : 아래 리스트에 드어있는 문자열 중에서 길이가 5인 것들만 리스트 형태로 출력되게 프로그램을 적성하세요."
   ]
  },
  {
   "cell_type": "code",
   "execution_count": 39,
   "metadata": {},
   "outputs": [
    {
     "name": "stdout",
     "output_type": "stream",
     "text": [
      "alpha\n",
      "bravo\n",
      "delta\n",
      "hotal\n",
      "india\n"
     ]
    }
   ],
   "source": [
    "list1=['alpha','bravo','charlie','delta','echo','foxtrot','golf','hotal','india']\n",
    "for i in list1:\n",
    "  if len(i) == 5:\n",
    "    print(i)"
   ]
  },
  {
   "cell_type": "code",
   "execution_count": 42,
   "metadata": {},
   "outputs": [],
   "source": [
    "list1 = ['alpha', 'bravo', 'charlie', 'delta', 'echo', 'foxtrot', 'golf', 'hotel', 'india']\n",
    "list2=[i for i in list1 if len(i) == 5]"
   ]
  },
  {
   "cell_type": "code",
   "execution_count": 43,
   "metadata": {},
   "outputs": [
    {
     "name": "stdout",
     "output_type": "stream",
     "text": [
      "['alpha', 'bravo', 'delta', 'hotel', 'india']\n"
     ]
    }
   ],
   "source": [
    "list2=[]\n",
    "for i in list1:\n",
    "    if len(i)==5:\n",
    "        list2.append(i)\n",
    "print(list2)"
   ]
  },
  {
   "attachments": {},
   "cell_type": "markdown",
   "metadata": {},
   "source": [
    "[연습문제2] 자동판매기 프로그램 작성\n",
    "자동판매기 프로그램을 시뮬레이션하는 프로그램을 작성하세요.\n",
    "자동판매기는 사용자로부터 투입된 돈과 상품의 값을 입력받는다.\n",
    "상품값은 100원단위로 가정한다. 프로그램은 잔돈을 계산하여 출력한다. \n",
    "자판기는 동전 500원,100원짜리만 가지고 있다고 가정한다.\n",
    "\n",
    "실행결과\n",
    "투입된 금액 : 5,000원\n",
    "상품값 : 2,600원\n",
    "거스름돈 : 2,400원\n",
    "500원 동전 갯수: 4개, 100원 동전갯수 : 4개\n"
   ]
  },
  {
   "cell_type": "code",
   "execution_count": 58,
   "metadata": {},
   "outputs": [
    {
     "name": "stdout",
     "output_type": "stream",
     "text": [
      "거스름돈: 2400\n",
      "500원짜리 동전의 수 : 4\n",
      "100원짜리 동전의 수 : 4\n"
     ]
    }
   ],
   "source": [
    "a=int(input(\"투입할 금액을 입력하세요: \"))\n",
    "b=int(input(\"상품값을 입력하세요: \"))\n",
    "\n",
    "c=a-b\n",
    "print(\"거스름돈:\",c)\n",
    "\n",
    "d=c//500\n",
    "e=(c%500)//100\n",
    "\n",
    "print(\"500원짜리 동전의 수 :\",d)\n",
    "print(\"100원짜리 동전의 수 :\",e)"
   ]
  },
  {
   "cell_type": "code",
   "execution_count": 60,
   "metadata": {},
   "outputs": [
    {
     "name": "stdout",
     "output_type": "stream",
     "text": [
      "투입한 돈:  5000 상품값:  2600\n",
      "거스름돈:  2400\n",
      "500원, 100원 개수: 4 4\n"
     ]
    }
   ],
   "source": [
    "# 투입된 돈, 상품 값 입력받기\n",
    "insert_money, product_price = map(int, input('투입하신 돈과 상품 값을 입력해주세요').split())\n",
    "# 거스름돈 출력하기\n",
    "rest_money = insert_money - product_price\n",
    "# 500원 동전의 개수와 100원 동전의 개수 입력받기\n",
    "coin_500, coin_100 = map(int, input('동전 개수를 500원, 100원 순으로 입력해주세요').split())\n",
    "\n",
    "print('투입한 돈: ', insert_money, '상품값: ', product_price)\n",
    "print('거스름돈: ', rest_money)\n",
    "print('500원, 100원 개수:', coin_500, coin_100)"
   ]
  },
  {
   "attachments": {},
   "cell_type": "markdown",
   "metadata": {},
   "source": [
    "[예시]판매실적 금액에 천단위마다 콤마(,)넣기 "
   ]
  },
  {
   "cell_type": "code",
   "execution_count": 63,
   "metadata": {},
   "outputs": [
    {
     "name": "stdout",
     "output_type": "stream",
     "text": [
      "<강남 대리점 2022년 상반기 판매 실적>\n",
      "dict_keys(['1월', '2월', '3월'])\n"
     ]
    }
   ],
   "source": [
    "print('<강남 대리점 2022년 상반기 판매 실적>')\n",
    "sales_performance={'1월':59870000,'2월':39860000,'3월':78930000}\n",
    "key_values=sales_performance.keys()\n",
    "print(key_values)"
   ]
  },
  {
   "cell_type": "code",
   "execution_count": 70,
   "metadata": {},
   "outputs": [
    {
     "name": "stdout",
     "output_type": "stream",
     "text": [
      "1월 판매실적:59,870,000원\n",
      "2월 판매실적:39,860,000원\n",
      "3월 판매실적:78,930,000원\n"
     ]
    }
   ],
   "source": [
    "#(1)판매실적금액을 반대로 출력\n",
    "#(2)i값이 3의 배수 이거나, i 값이 전체 길이와 같지 않으면 콤마찍기 ex)000,078,95\n",
    "#(3)위의 값을 다시 반대로 뒤집기 : 95,870,000\n",
    "\n",
    "for keys in key_values:\n",
    "    num=str(sales_performance[keys])\n",
    "    value=num[::-1] #슬라이싱 -> 판매실적값을 거꾸로 뒤집기\n",
    "    ret = ''\n",
    "    \n",
    "    for i,c in enumerate(value):\n",
    "        i+=1\n",
    "        if i != len(value) and i%3 ==0 :\n",
    "            ret += (c + ',')\n",
    "        else:\n",
    "            ret+= c\n",
    "    ret=ret[::-1]\n",
    "    print(\"%s 판매실적:%s원\"%(keys,ret))"
   ]
  },
  {
   "cell_type": "code",
   "execution_count": 73,
   "metadata": {},
   "outputs": [
    {
     "name": "stdout",
     "output_type": "stream",
     "text": [
      "dict_items([('1월', 59870000), ('2월', 39860000), ('3월', 78930000)])\n"
     ]
    }
   ],
   "source": [
    "#dictionary객체의 items()함수는 키:값을 모두 추출하는 함수이다.\n",
    "items=sales_performance.items()\n",
    "print(items)"
   ]
  },
  {
   "cell_type": "code",
   "execution_count": 74,
   "metadata": {},
   "outputs": [
    {
     "name": "stdout",
     "output_type": "stream",
     "text": [
      "<강남 대리점 2022년 상반기 판매 실적>\n",
      "1월판매실적: 59,870,000원\n",
      "2월판매실적: 39,860,000원\n",
      "3월판매실적: 78,930,000원\n"
     ]
    }
   ],
   "source": [
    "items=sales_performance.items()\n",
    "print('<강남 대리점 2022년 상반기 판매 실적>')\n",
    "for key,value in items:\n",
    "    print(key+'판매실적:',format(value,',d')+'원') \n",
    "    #format(항목,형식지정자)"
   ]
  },
  {
   "cell_type": "code",
   "execution_count": 82,
   "metadata": {},
   "outputs": [
    {
     "name": "stdout",
     "output_type": "stream",
     "text": [
      "<강남 대리점 2022년 상반기 판매 실적>\n",
      "1월 판매실적 : 59,870,000원\n",
      "2월 판매실적 : 39,860,000원\n",
      "3월 판매실적 : 78,930,000원\n"
     ]
    }
   ],
   "source": [
    "items=sales_performance.items()\n",
    "print('<강남 대리점 2022년 상반기 판매 실적>')\n",
    "for key,value in items:\n",
    "    print(f'{key} 판매실적 : {value:,d}원') #f-string 문자열 포맷팅"
   ]
  },
  {
   "attachments": {},
   "cell_type": "markdown",
   "metadata": {},
   "source": [
    "[연습문제]금액을 입력받아 각 화폐 단위로 출력하기"
   ]
  },
  {
   "cell_type": "code",
   "execution_count": 1,
   "metadata": {},
   "outputs": [
    {
     "name": "stdout",
     "output_type": "stream",
     "text": [
      "입력받은 금액: 56790 원\n",
      "오만원권 : 1매\n",
      "만원권 : 0매\n",
      "오천원권 : 1매\n",
      "천원권 : 1매\n",
      "오백원 : 1개\n",
      "백원 : 2개\n",
      "오십원 : 1개\n",
      "십원 : 4개\n"
     ]
    }
   ],
   "source": [
    "cost = int(input('금액을 입력하세요. : '))\n",
    "print('입력받은 금액:',cost,'원')\n",
    "bill = [50000, 10000, 5000, 1000, 500, 100, 50, 10]\n",
    "korean = {50000:'오만원권',10000:'만원권',5000:'오천원권',1000:'천원권',500:'오백원',100:'백원',50:'오십원',10:'십원'}\n",
    "\n",
    "for i in bill:\n",
    "    tmp,cost = divmod(cost,i)\n",
    "    if i>=1000:\n",
    "        print(f'{korean[i]} : {tmp}매')\n",
    "    else:\n",
    "        print(f'{korean[i]} : {tmp}개')"
   ]
  },
  {
   "cell_type": "code",
   "execution_count": 3,
   "metadata": {},
   "outputs": [
    {
     "name": "stdout",
     "output_type": "stream",
     "text": [
      "입력받은 금액: 56890 원\n",
      "오만원권 1매\n",
      "오천원권 1매\n",
      "천원권 1매\n",
      "오백원 1개\n",
      "백원 3개\n",
      "오십원 1개\n",
      "십원 4개\n"
     ]
    }
   ],
   "source": [
    "money = int(input('금액을 입력하세요. : '))\n",
    "print('입력받은 금액:',money,'원')\n",
    "\n",
    "list_money = [50000, 10000, 5000, 1000, 500, 100, 50, 10]\n",
    "list_str_money = ['오만원권','만원권','오천원권','천원권','오백원','백원','오십원','십원']\n",
    "\n",
    "for i in range(0,8): #0이상 8미만까지(0~7) 8번 반복처리\n",
    "    portion, remainder = divmod(money,list_money[i])\n",
    "    money = remainder #[중요]\n",
    "    \n",
    "    if portion>0 and i<4:\n",
    "        print(list_str_money[i] + ' '+str(portion)+'매')\n",
    "    elif portion>0 and i>=4:\n",
    "        print(list_str_money[i] + ' '+str(portion)+'개')"
   ]
  },
  {
   "cell_type": "code",
   "execution_count": null,
   "metadata": {},
   "outputs": [],
   "source": []
  }
 ],
 "metadata": {
  "kernelspec": {
   "display_name": "base",
   "language": "python",
   "name": "python3"
  },
  "language_info": {
   "codemirror_mode": {
    "name": "ipython",
    "version": 3
   },
   "file_extension": ".py",
   "mimetype": "text/x-python",
   "name": "python",
   "nbconvert_exporter": "python",
   "pygments_lexer": "ipython3",
   "version": "3.9.12 (main, Apr  4 2022, 05:22:27) [MSC v.1916 64 bit (AMD64)]"
  },
  "orig_nbformat": 4,
  "vscode": {
   "interpreter": {
    "hash": "a077222d77dfe082b8f1dd562ad70e458ac2ab76993a0b248ab0476e32e9e8dd"
   }
  }
 },
 "nbformat": 4,
 "nbformat_minor": 2
}
